{
 "cells": [
  {
   "cell_type": "code",
   "execution_count": null,
   "id": "4a899e4d-fc5f-4024-979d-5dcbbbc59d84",
   "metadata": {},
   "outputs": [],
   "source": [
    "#ケプラー円盤の各半径での回転数を出力するコード（disk_cyl-test2の回転数を求めるときに使った）\n",
    "\n",
    "import numpy as np\n",
    "\n",
    "GM = 1.0\n",
    "t_end = 628.0\n",
    "\n",
    "r = np.array([0.5, 1.0, 2.0])\n",
    "N_rot = t_end / (2*np.pi) * np.sqrt(GM / r**3)\n",
    "\n",
    "for rr, N in zip(r, N_rot):\n",
    "    print(f\"r = {rr:.2f} → {N:.1f} 回転\")"
   ]
  },
  {
   "cell_type": "code",
   "execution_count": null,
   "id": "e1b1a24f-ac97-4e34-8d7f-4823e821c74e",
   "metadata": {},
   "outputs": [],
   "source": [
    "#ケプラー円盤の各半径での回転数をグラフ化するコード（disk_cyl-test2の回転数をグラフ化するときに使った）\n",
    "\n",
    "import numpy as np\n",
    "import matplotlib.pyplot as plt\n",
    "\n",
    "# -------------------------------\n",
    "# パラメータ（Athena++の設定に合わせる）\n",
    "# -------------------------------\n",
    "GM = 1.0          # 中心重力定数\n",
    "t_end = 628.0     # 総シミュレーション時間（r=1で100回転）\n",
    "\n",
    "# 半径範囲（Athena++メッシュ範囲）\n",
    "r = np.linspace(0.5, 2.0, 200)\n",
    "\n",
    "# -------------------------------\n",
    "# Kepler回転の角速度と回転数\n",
    "# -------------------------------\n",
    "Omega = np.sqrt(GM / r**3)                 # 角速度\n",
    "N_rot = t_end * Omega / (2 * np.pi)        # 総回転数 = t_end / T\n",
    "\n",
    "# -------------------------------\n",
    "# プロット\n",
    "# -------------------------------\n",
    "plt.figure(figsize=(7,5))\n",
    "plt.plot(r, N_rot, color='darkblue', lw=2)\n",
    "plt.xlim(0,2.0)\n",
    "plt.ylim(0,300)\n",
    "plt.xlabel(\"Radius r\", fontsize=12)\n",
    "plt.ylabel(\"Number of rotations N_rot\", fontsize=12)\n",
    "plt.title(\"Keplerian Disk: Number of Rotations vs Radius\", fontsize=13)\n",
    "plt.grid(True, alpha=0.3)\n",
    "plt.tight_layout()\n",
    "\n",
    "# グラフ保存（任意）\n",
    "plt.savefig(\"rotation_vs_radius.png\", dpi=200)\n",
    "plt.show()"
   ]
  }
 ],
 "metadata": {
  "kernelspec": {
   "display_name": "Python 3 (ipykernel)",
   "language": "python",
   "name": "python3"
  },
  "language_info": {
   "codemirror_mode": {
    "name": "ipython",
    "version": 3
   },
   "file_extension": ".py",
   "mimetype": "text/x-python",
   "name": "python",
   "nbconvert_exporter": "python",
   "pygments_lexer": "ipython3",
   "version": "3.13.5"
  }
 },
 "nbformat": 4,
 "nbformat_minor": 5
}
