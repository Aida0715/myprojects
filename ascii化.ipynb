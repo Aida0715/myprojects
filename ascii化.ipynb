{
 "cells": [
  {
   "cell_type": "code",
   "execution_count": null,
   "id": "c5463317-8fd9-4903-be0d-006ea6148cf4",
   "metadata": {},
   "outputs": [],
   "source": [
    "#バイナリファイルをasciiで保存するときのコード\n",
    "\n",
    "import pyvista as pv\n",
    "grid = pv.read(\"disk.block0.out1.00100.vtk\")\n",
    "grid.save(\"disk.block0.out1.00100_ascii.vtk\",binary=False)"
   ]
  }
 ],
 "metadata": {
  "kernelspec": {
   "display_name": "Python 3 (ipykernel)",
   "language": "python",
   "name": "python3"
  },
  "language_info": {
   "codemirror_mode": {
    "name": "ipython",
    "version": 3
   },
   "file_extension": ".py",
   "mimetype": "text/x-python",
   "name": "python",
   "nbconvert_exporter": "python",
   "pygments_lexer": "ipython3",
   "version": "3.13.5"
  }
 },
 "nbformat": 4,
 "nbformat_minor": 5
}
