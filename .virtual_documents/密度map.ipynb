#密度map画像作成用コード（disk_cyl-test2の可視化で使ったやつ）

import numpy as np
import pyvista as pv
import matplotlib.pyplot as plt

# -----------------------------
# VTK読み込み
# -----------------------------
fname = "disk.block0.out1.00000.vtk"
grid = pv.read(fname)
rho = grid["dens"]

# -----------------------------
# セル数
# -----------------------------
nx, ny, nz = np.array(grid.dimensions) - 1  # nx=64, ny=256, nz=1
if nz == 0:
    nz = 1  # 2Dの場合

# -----------------------------
# r, phi のセル境界
# -----------------------------
x_edges = np.array(grid.GetXCoordinates())  # 65点
y_edges = np.array(grid.GetYCoordinates())  # 257点

# -----------------------------
# rhoを2D配列に reshape (r, phi)
# -----------------------------
rho_2d = rho.reshape((nx, ny), order='F')  # shape = (64, 256)

# -----------------------------
# pcolormesh用にセル境界に合わせて拡張
# -----------------------------
rho_mesh = np.zeros((nx+1, ny+1))
rho_mesh[:-1, :-1] = rho_2d
rho_mesh[-1, :-1] = rho_2d[-1, :]       # 最後の行をコピー
rho_mesh[:-1, -1] = rho_2d[:, -1]       # 最後の列をコピー
rho_mesh[-1, -1] = rho_2d[-1, -1]       # 右上端もコピー

# -----------------------------
# X-Y座標に変換（セル境界）
# -----------------------------
R, PHI = np.meshgrid(x_edges, y_edges, indexing='ij')
X = R * np.cos(PHI)
Y = R * np.sin(PHI)

# -----------------------------
# プロット
# -----------------------------
plt.figure(figsize=(6,6))
plt.pcolormesh(X, Y, rho_mesh, shading='auto', cmap='viridis')
plt.axis('equal')
plt.xlabel("X")
plt.ylabel("Y")
plt.title("Density (.00000)")
plt.colorbar(label="Density")
plt.savefig("theta_averaged_density_00000.png", dpi=300)  # 高解像度で保存
plt.show()



#vφグラフ全ステップの画像を作成して保存するコード（disk_cyl-test2の密度mapを作成するときに使ったやつ）

import numpy as np
import pyvista as pv
import matplotlib.pyplot as plt
import os
import glob
import natsort

# ============================================================
# 設定
# ============================================================
# Athena++ 出力ディレクトリ
outdir = "/home/aian/athena-public-version/results/disk_cyl-test2"
# ファイルパターン
file_pattern = os.path.join(outdir, "disk.block0.out1.*.vtk")
# 保存先ディレクトリ
savedir = os.path.join(outdir, "density_maps")
os.makedirs(savedir, exist_ok=True)

# ============================================================
# ファイル一覧取得（ソート）
# ============================================================
file_list = natsort.natsorted(glob.glob(file_pattern))
if len(file_list) == 0:
    raise FileNotFoundError("VTKファイルが見つかりません。パス設定を確認してください。")
print(f"発見ファイル数: {len(file_list)}")

# ============================================================
# ループ処理
# ============================================================
for i, fname in enumerate(file_list):
    print(f"[{i+1}/{len(file_list)}] {os.path.basename(fname)} を処理中...")

    # -----------------------------
    # VTK読み込み
    # -----------------------------
    grid = pv.read(fname)
    rho = grid["dens"]

    # -----------------------------
    # セル数
    # -----------------------------
    nx, ny, nz = np.array(grid.dimensions) - 1
    if nz == 0:
        nz = 1  # 2Dの場合

    # -----------------------------
    # r, phi のセル境界
    # -----------------------------
    x_edges = np.array(grid.GetXCoordinates())  # r方向
    y_edges = np.array(grid.GetYCoordinates())  # φ方向

    # -----------------------------
    # rhoを2D配列に reshape (r, phi)
    # -----------------------------
    rho_2d = rho.reshape((nx, ny), order='F')

    # -----------------------------
    # pcolormesh用にセル境界に合わせて拡張
    # -----------------------------
    rho_mesh = np.zeros((nx+1, ny+1))
    rho_mesh[:-1, :-1] = rho_2d
    rho_mesh[-1, :-1] = rho_2d[-1, :]
    rho_mesh[:-1, -1] = rho_2d[:, -1]
    rho_mesh[-1, -1] = rho_2d[-1, -1]

    # -----------------------------
    # X-Y座標に変換（セル境界）
    # -----------------------------
    R, PHI = np.meshgrid(x_edges, y_edges, indexing='ij')
    X = R * np.cos(PHI)
    Y = R * np.sin(PHI)

    # -----------------------------
    # プロット
    # -----------------------------
    plt.figure(figsize=(6, 6))
    plt.pcolormesh(X, Y, rho_mesh, shading='auto', cmap='viridis')
    plt.axis('equal')
    plt.xlabel("X")
    plt.ylabel("Y")
    plt.title(f"Density ({i:05d})")
    plt.colorbar(label="Density")
    plt.tight_layout()

    # 保存
    save_path = os.path.join(savedir, f"density_{i:05d}.png")
    plt.savefig(save_path, dpi=300)
    plt.close()

print(f"\n✅ すべての密度マップを {savedir} に保存しました。")

