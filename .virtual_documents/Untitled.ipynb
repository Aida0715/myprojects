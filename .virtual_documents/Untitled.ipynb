#ケプラー円盤の各半径での回転数を出力するコード（disk_cyl-test2の回転数を求めるときに使った）

import numpy as np

GM = 1.0
t_end = 628.0

r = np.array([0.5, 1.0, 2.0])
N_rot = t_end / (2*np.pi) * np.sqrt(GM / r**3)

for rr, N in zip(r, N_rot):
    print(f"r = {rr:.2f} → {N:.1f} 回転")



