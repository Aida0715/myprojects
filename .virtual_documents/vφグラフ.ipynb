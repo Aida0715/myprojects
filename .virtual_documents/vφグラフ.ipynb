#vφ画像作成用コード（※時間発展させない　disk_cyl-test2の　vφ vs v_kep のグラフを作るときに使った）

import pyvista as pv
import numpy as np
import matplotlib.pyplot as plt
import os

# -------------------------------
# ファイル読み込み
# -------------------------------
outdir = "/home/aian/athena-public-version/results/disk_cyl-test2"
fname = "disk.block0.out1.00000.vtk"
grid = pv.read(fname)


# -------------------------------
# セル中心座標と半径計算
# -------------------------------
centers = grid.cell_centers().points
r = centers[:, 0]  # XY平面の半径

# -------------------------------
# 物理量の取得
# -------------------------------
dens = grid["dens"]              # 密度
mom = grid["mom"]                # 運動量ベクトル（R, φ, Z）
mom_phi = mom[:, 1]              # φ方向運動量
v_phi = mom_phi / dens       # φ方向速度

# -------------------------------
# 半径方向ビン平均
# -------------------------------
n_bins = 100
r_bins = np.linspace(r.min(), r.max(), n_bins + 1)
r_cent = 0.5 * (r_bins[:-1] + r_bins[1:])

# r順にソート
sort_idx = np.argsort(r)
r_sorted = r[sort_idx]
vphi_sorted = v_phi[sort_idx]

# -------------------------------
# 理論ケプラー速度
# -------------------------------
G = 1.0
Mstar = 1.0
v_kep = np.sqrt(G * Mstar / r_cent)

# -------------------------------
# プロット
# -------------------------------
plt.figure(figsize=(7, 5))
plt.plot(r_cent, v_kep, label="Kepler v_phi", color="red", linestyle="--")
plt.plot(r_sorted, vphi_sorted, label="Simulation v_phi", color="blue")
plt.xlabel("r")
plt.ylabel("v_phi")
plt.xlim(0.5,2)
plt.title("v_phi vs radius (cylindrical disk)")
plt.legend()
plt.grid(True)
plt.tight_layout()

# 保存
plt.savefig(os.path.join(outdir, "vp_vs_kepler.png"), dpi=300, bbox_inches="tight")
plt.show()


#vφ時間発展グラフ作成コード（disk_cyl-test2でvφを時間発展させるときに使った）

import pyvista as pv
import numpy as np
import matplotlib.pyplot as plt
import glob
import natsort
import os　

#設定
outdir = "/home/aian/athena-public-version/results/disk_cyl-test2"
pattern = os.path.join(outdir, "disk.block0.out1.*.vtk")

#ファイルの一覧取得
file_list = natsort.natsorted(glob.glob(pattern))
print(f"{len(file_list)} files found")
print(file_list)

#解析設定
G = 1.0
Mstar = 1.0

#プロット準備
plt.figure(figsize=(7,5))

for i,fname in enumerate(file_list):
    if i%20 !=0:
        continue #10ステップごと以外はスキップ
        
    grid = pv.read(fname)
    centers = grid.cell_centers().points #セル中心座標を返すメソッド
    r = centers[:,0] #ｒの情報は0インデックスにある

    dens = grid["dens"]
    mom = grid["mom"]
    mom_phi = mom[:,1] #φ方向運動量
    v_phi = mom_phi / dens #φ方向速度

    #半径ビン平均
    n_bins = 40
    r_bins = np.linspace(r.min(), r.max(), n_bins + 1)
    r_cent = 0.5 * (r_bins[:-1] + r_bins[1:]) #r_bins[:-1]=[0,1,2,3,..],r_bins[1:]=[1,2,3,4,..]なので、これらを足し合わせて２で割ると、各ビンの中央値になる
    vphi_binned = np.zeros(n_bins) #bin個の要素を持つ配列をゼロで初期化（binの数だけ箱を用意しておく）
    for j in range(n_bins):
        mask = (r >= r_bins[j]) & (r < r_bins[j+1]) #マスクをかけるrの範囲の条件
        if np.any(mask):
            vphi_binned[j] = np.mean(v_phi[mask]) #maskの中に少なくとも１つでもtrueがあれば、そのビン内のv_phiの平均を取る
        else:
            vphi_binned[j] = np.nan #データがなければ何も入らない
                                                           
            
    #最初の１回だけ理論曲線を書く
    if i == 0:
        v_kep = np.sqrt(G*Mstar / r_cent)
        plt.plot(r_cent, v_kep, "r--", label="Kepler v_phi")

    # スナップショットごとに色を変えて重ね描き
    plt.plot(r_cent, vphi_binned, label=f"step {i:03d}", alpha=0.5)
    
    
plt.xlabel("r")
plt.ylabel("v_phi")
plt.title("v_phi vs radius over time")
plt.xlim(0,2.0)
plt.ylim(0,1.5)
plt.legend(loc="upper right",fontsize=8)
plt.grid(True)
plt.tight_layout()

# 保存
plt.savefig(os.path.join(outdir, "vp_vs_radius_overtime.png"), dpi=300, bbox_inches="tight")
plt.show()
