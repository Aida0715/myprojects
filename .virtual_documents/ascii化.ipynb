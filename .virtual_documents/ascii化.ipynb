#バイナリファイルをasciiで保存するときのコード

import pyvista as pv
grid = pv.read("disk.block0.out1.00100.vtk")
grid.save("disk.block0.out1.00100_ascii.vtk",binary=False)
